{
 "cells": [
  {
   "cell_type": "code",
   "execution_count": 1,
   "metadata": {},
   "outputs": [],
   "source": [
 #   "import numpy as np"
   ]
  },
  {
   "cell_type": "code",
   "execution_count": 24,
   "metadata": {},
   "outputs": [],
   "source": [
#    "import matplotlib.pyplot as plt"
   ]
  },
  {
   "cell_type": "code",
   "execution_count": 99,
   "metadata": {},
   "outputs": [],
   "source": [
 #   "import numpy.random as npr"
   ]
  },
  {
   "cell_type": "code",
   "execution_count": 2,
   "metadata": {},
   "outputs": [],
   "source": [
 #   "traind,testd,trainl,testl = np.load(open('mnist.npz','rb')).values()"
   ]
  },
  {
   "cell_type": "code",
   "execution_count": 3,
   "metadata": {},
   "outputs": [
    {
     "data": {
      "text/plain": [
 #      "(60000, 28, 28)"
      ]
     },
     "execution_count": 3,
     "metadata": {},
     "output_type": "execute_result"
    }
   ],
   "source": [
 #   "traind.shape"
   ]
  },
  {
   "cell_type": "code",
   "execution_count": 4,
   "metadata": {},
   "outputs": [
    {
     "data": {
      "text/plain": [
 #      "(60000, 10)"
      ]
     },
     "execution_count": 4,
     "metadata": {},
     "output_type": "execute_result"
    }
   ],
   "source": [
#    "trainl.shape"
   ]
  },
  {
   "cell_type": "code",
   "execution_count": 15,
   "metadata": {},
   "outputs": [],
   "source": [
 #   "a = traind[999]"
   ]
  },
  {
   "cell_type": "code",
   "execution_count": 16,
   "metadata": {},
   "outputs": [],
   "source": [
#    "aLabel = trainl[999]"
   ]
  },
  {
   "cell_type": "code",
   "execution_count": 25,
   "metadata": {},
   "outputs": [
    {
     "data": {
      "text/plain": [
 #      "6"
      ]
     },
     "execution_count": 25,
     "metadata": {},
     "output_type": "execute_result"
    }
   ],
   "source": [
#    "aLabel.argmax()"
   ]
  },
  {
   "cell_type": "code",
   "execution_count": 26,
   "metadata": {},
   "outputs": [
    {
     "data": {
      "text/plain": [
#The junk below is the image :D
 #      "<matplotlib.image.AxesImage at 0x10aed4650>"
      ]
     },
     "execution_count": 26,
     "metadata": {},
     "output_type": "execute_result"
    },
    {
     "data": {
      "image/png": "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\n",
      "text/plain": [
       "<Figure size 432x288 with 1 Axes>"
      ]
     },
     "metadata": {
      "needs_background": "light"
     },
     "output_type": "display_data"
    }
   ],
   "source": [
 #   "plt.imshow(a)"
   ]
  },
  {
   "cell_type": "code",
   "execution_count": 30,
   "metadata": {},
   "outputs": [],
   "source": [
 #   "classes = trainl.argmax(axis=1)"
   ]
  },
  {
   "cell_type": "code",
   "execution_count": 31,
   "metadata": {},
   "outputs": [
    {
     "data": {
      "text/plain": [
 #      "(60000,)"
      ]
     },
     "execution_count": 31,
     "metadata": {},
     "output_type": "execute_result"
    }
   ],
   "source": [
#    "classes.shape"
   ]
  },
  {
   "cell_type": "code",
   "execution_count": 32,
   "metadata": {},
   "outputs": [
    {
     "data": {
      "text/plain": [
  #     "array([5, 0, 4, ..., 5, 6, 8])"
      ]
     },
     "execution_count": 32,
     "metadata": {},
     "output_type": "execute_result"
    }
   ],
   "source": [
 #   "classes"
   ]
  },
  {
   "cell_type": "code",
   "execution_count": 33,
   "metadata": {},
   "outputs": [
    {
     "data": {
      "text/plain": [
#       "0"
      ]
     },
     "execution_count": 33,
     "metadata": {},
     "output_type": "execute_result"
    }
   ],
   "source": [
#    "classes.min()"
   ]
  },
  {
   "cell_type": "code",
   "execution_count": 34,
   "metadata": {},
   "outputs": [
    {
     "data": {
      "text/plain": [
#       "9"
      ]
     },
     "execution_count": 34,
     "metadata": {},
     "output_type": "execute_result"
    }
   ],
   "source": [
 #   "classes.max()"
   ]
  },
  {
   "cell_type": "code",
   "execution_count": 38,
   "metadata": {},
   "outputs": [],
   "source": [
#    "class5 = (classes==5)"
   ]
  },
  {
   "cell_type": "code",
   "execution_count": 39,
   "metadata": {},
   "outputs": [
    {
     "data": {
      "text/plain": [
  #     "array([ True, False, False, ...,  True, False, False])"
      ]
     },
     "execution_count": 39,
     "metadata": {},
     "output_type": "execute_result"
    }
   ],
   "source": [
 #   "class5"
   ]
  },
  {
   "cell_type": "code",
   "execution_count": 41,
   "metadata": {},
   "outputs": [
    {
     "data": {
      "text/plain": [
#       "5421"
      ]
     },
     "execution_count": 41,
     "metadata": {},
     "output_type": "execute_result"
    }
   ],
   "source": [
 #   "class5.sum()"
   ]
  },
  {
   "cell_type": "code",
   "execution_count": 50,
   "metadata": {},
   "outputs": [],
   "source": [
#    "sample10 = traind[9]"
   ]
  },
  {
   "cell_type": "code",
   "execution_count": 51,
   "metadata": {},
   "outputs": [
    {
     "data": {
      "text/plain": [
 #      "(28, 28)"
      ]
     },
     "execution_count": 51,
     "metadata": {},
     "output_type": "execute_result"
    }
   ],
   "source": [
 #   "sample10.shape"
   ]
  },
  {
   "cell_type": "code",
   "execution_count": 52,
   "metadata": {},
   "outputs": [
    {
     "data": {
      "text/plain": [
 #      "0.0"
      ]
     },
     "execution_count": 52,
     "metadata": {},
     "output_type": "execute_result"
    }
   ],
   "source": [
 #   "sample10.min()"
   ]
  },
  {
   "cell_type": "code",
   "execution_count": 53,
   "metadata": {},
   "outputs": [
    {
     "data": {
      "text/plain": [
#       "1.0"
      ]
     },
     "execution_count": 53,
     "metadata": {},
     "output_type": "execute_result"
    }
   ],
   "source": [
#    "sample10.max()"
   ]
  },
  {
   "cell_type": "code",
   "execution_count": 54,
   "metadata": {},
   "outputs": [
    {
     "data": {
      "text/plain": [
 #      "1.0"
      ]
     },
     "execution_count": 54,
     "metadata": {},
     "output_type": "execute_result"
    }
   ],
   "source": [
 #   "np.max(sample10)"
   ]
  },
  {
   "cell_type": "code",
   "execution_count": 56,
   "metadata": {},
   "outputs": [
    {
     "data": {
      "text/plain": [
 #      "(14, 28)"
      ]
     },
     "execution_count": 56,
     "metadata": {},
     "output_type": "execute_result"
    }
   ],
   "source": [
 #   "sample10[::2,:].shape"
   ]
  },
  {
   "cell_type": "code",
   "execution_count": 58,
   "metadata": {},
   "outputs": [
    {
     "data": {
      "text/plain": [
 #      "(28, 14)"
      ]
     },
     "execution_count": 58,
     "metadata": {},
     "output_type": "execute_result"
    }
   ],
   "source": [
 #   "sample10[:,::2].shape"
   ]
  },
  {
   "cell_type": "code",
   "execution_count": 60,
   "metadata": {},
   "outputs": [
    {
     "data": {
      "text/plain": [
 #      "(28, 28)"
      ]
     },
     "execution_count": 60,
     "metadata": {},
     "output_type": "execute_result"
    }
   ],
   "source": [
 #   "sample10[::-1,::-1].shape"
   ]
  },
  {
   "cell_type": "code",
   "execution_count": 62,
   "metadata": {},
   "outputs": [],
   "source": [
 #   "sample10[0:9,:] =0"
   ]
  },
  {
   "cell_type": "code",
   "execution_count": 63,
   "metadata": {},
   "outputs": [
    {
     "data": {
      "text/plain": [
      "<matplotlib.image.AxesImage at 0x101bedcd0>"
      ]
     },
     "execution_count": 63,
     "metadata": {},
     "output_type": "execute_result"
    },
    {
     "data": {
      "image/png": "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\n",
      "text/plain": [
       "<Figure size 432x288 with 1 Axes>"
      ]
     },
     "metadata": {
      "needs_background": "light"
     },
     "output_type": "display_data"
    }
   ],
   "source": [
 #   "plt.imshow(sample10)"
   ]
  },
  {
   "cell_type": "code",
   "execution_count": 64,
   "metadata": {},
   "outputs": [],
   "source": [

    "sample9= traind[8]"
   ]
  },
  {
   "cell_type": "code",
   "execution_count": 65,
   "metadata": {},
   "outputs": [
    {
     "data": {
      "text/plain": [
       "<matplotlib.image.AxesImage at 0x10a5e8990>"
      ]
     },
     "execution_count": 65,
     "metadata": {},
     "output_type": "execute_result"
    },
    {
     "data": {
      "image/png": "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\n",
      "text/plain": [
       "<Figure size 432x288 with 1 Axes>"
      ]
     },
     "metadata": {
      "needs_background": "light"
     },
     "output_type": "display_data"
    }
   ],
   "source": [
    "plt.imshow(sample9)"
   ]
  },
  {
   "cell_type": "code",
   "execution_count": 66,
   "metadata": {},
   "outputs": [],
   "source": [
    "sample9[0:9,:] = 0"
   ]
  },
  {
   "cell_type": "code",
   "execution_count": 67,
   "metadata": {},
   "outputs": [
    {
     "data": {
      "text/plain": [
       "<matplotlib.image.AxesImage at 0x10a67be90>"
      ]
     },
     "execution_count": 67,
     "metadata": {},
     "output_type": "execute_result"
    },
    {
     "data": {
      "image/png": "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\n",
      "text/plain": [
       "<Figure size 432x288 with 1 Axes>"
      ]
     },
     "metadata": {
      "needs_background": "light"
     },
     "output_type": "display_data"
    }
   ],
   "source": [
    "plt.imshow(sample9)"
   ]
  },
  {
   "cell_type": "code",
   "execution_count": 68,
   "metadata": {},
   "outputs": [],
   "source": [
    "sample10[0:9:-1,:] = 0"
   ]
  },
  {
   "cell_type": "code",
   "execution_count": 69,
   "metadata": {},
   "outputs": [
    {
     "data": {
      "text/plain": [
       "<matplotlib.image.AxesImage at 0x10b09cf90>"
      ]
     },
     "execution_count": 69,
     "metadata": {},
     "output_type": "execute_result"
    },
    {
     "data": {
      "image/png": "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\n",
      "text/plain": [
       "<Figure size 432x288 with 1 Axes>"
      ]
     },
     "metadata": {
      "needs_background": "light"
     },
     "output_type": "display_data"
    }
   ],
   "source": [
    "plt.imshow(sample10)"
   ]
  },
  {
   "cell_type": "code",
   "execution_count": 72,
   "metadata": {},
   "outputs": [],
   "source": [
 #   "sample10[18:27,:]=0"
   ]
  },
  {
   "cell_type": "code",
   "execution_count": 73,
   "metadata": {},
   "outputs": [
    {
     "data": {
      "text/plain": [
       "<matplotlib.image.AxesImage at 0x119b8b790>"
      ]
     },
     "execution_count": 73,
     "metadata": {},
     "output_type": "execute_result"
    },
    {
     "data": {
      "image/png": "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\n",
      "text/plain": [
       "<Figure size 432x288 with 1 Axes>"
      ]
     },
     "metadata": {
      "needs_background": "light"
     },
     "output_type": "display_data"
    }
   ],
   "source": [
 #   "plt.imshow(sample10)"
   ]
  },
  {
   "cell_type": "code",
   "execution_count": 74,
   "metadata": {},
   "outputs": [
    {
     "data": {
      "text/plain": [
  #     "(14, 14)"
      ]
     },
     "execution_count": 74,
     "metadata": {},
     "output_type": "execute_result"
    }
   ],
   "source": [
#    "sample10[::-2,::-2].shape"
   ]
  },
  {
   "cell_type": "code",
   "execution_count": 75,
   "metadata": {},
   "outputs": [
    {
     "data": {
      "text/plain": [
       "array([[0.        , 0.        , 0.        , 0.        , 0.        ,\n",
       "        0.        , 0.        , 0.        , 0.        , 0.        ,\n",
       "        0.        , 0.        , 0.        , 0.        ],\n",
       "       [0.        , 0.        , 0.        , 0.        , 0.        ,\n",
       "        0.        , 0.        , 0.        , 0.        , 0.        ,\n",
       "        0.        , 0.        , 0.        , 0.        ],\n",
       "       [0.        , 0.        , 0.        , 0.        , 0.        ,\n",
       "        0.        , 0.        , 0.        , 0.        , 0.        ,\n",
       "        0.        , 0.        , 0.        , 0.        ],\n",
       "       [0.        , 0.        , 0.        , 0.        , 0.        ,\n",
       "        0.        , 0.        , 0.        , 0.        , 0.        ,\n",
       "        0.        , 0.        , 0.        , 0.        ],\n",
       "       [0.        , 0.        , 0.        , 0.        , 0.        ,\n",
       "        0.        , 0.        , 0.        , 0.        , 0.        ,\n",
       "        0.        , 0.        , 0.        , 0.        ],\n",
       "       [0.        , 0.        , 0.        , 0.        , 0.6352539 ,\n",
       "        0.98828125, 0.98828125, 0.16467285, 0.        , 0.38427734,\n",
       "        0.7451172 , 0.        , 0.        , 0.        ],\n",
       "       [0.        , 0.        , 0.        , 0.        , 0.        ,\n",
       "        0.98828125, 0.7841797 , 0.98828125, 0.9921875 , 0.98828125,\n",
       "        0.        , 0.        , 0.        , 0.        ],\n",
       "       [0.        , 0.        , 0.        , 0.        , 0.98828125,\n",
       "        0.45483398, 0.        , 0.5605469 , 0.8588867 , 0.        ,\n",
       "        0.        , 0.        , 0.        , 0.        ],\n",
       "       [0.        , 0.        , 0.        , 0.77246094, 0.65478516,\n",
       "        0.        , 0.08233643, 0.984375  , 0.        , 0.        ,\n",
       "        0.        , 0.        , 0.        , 0.        ],\n",
       "       [0.        , 0.        , 0.        , 1.        , 0.        ,\n",
       "        0.        , 0.23535156, 0.84716797, 0.        , 0.        ,\n",
       "        0.        , 0.        , 0.        , 0.        ],\n",
       "       [0.        , 0.        , 0.        , 0.        , 0.        ,\n",
       "        0.        , 0.        , 0.        , 0.        , 0.        ,\n",
       "        0.        , 0.        , 0.        , 0.        ],\n",
       "       [0.        , 0.        , 0.        , 0.        , 0.        ,\n",
       "        0.        , 0.        , 0.        , 0.        , 0.        ,\n",
       "        0.        , 0.        , 0.        , 0.        ],\n",
       "       [0.        , 0.        , 0.        , 0.        , 0.        ,\n",
       "        0.        , 0.        , 0.        , 0.        , 0.        ,\n",
       "        0.        , 0.        , 0.        , 0.        ],\n",
       "       [0.        , 0.        , 0.        , 0.        , 0.        ,\n",
       "        0.        , 0.        , 0.        , 0.        , 0.        ,\n",
       "        0.        , 0.        , 0.        , 0.        ]], dtype=float32)"
      ]
     },
     "execution_count": 75,
     "metadata": {},
     "output_type": "execute_result"
    }
   ],
   "source": [
 #   "sample10[::-2,::-2]"
   ]
  },
  {
   "cell_type": "code",
   "execution_count": 76,
   "metadata": {},
   "outputs": [
    {
     "data": {
      "text/plain": [
 #      "array([5, 0, 4, ..., 5, 6, 8])"
      ]
     },
     "execution_count": 76,
     "metadata": {},
     "output_type": "execute_result"
    }
   ],
   "source": [
 #   "classes"
   ]
  },
  {
   "cell_type": "code",
   "execution_count": 77,
   "metadata": {},
   "outputs": [],
   "source": [
#    "class4 = (classes==4)"
   ]
  },
  {
   "cell_type": "code",
   "execution_count": 78,
   "metadata": {},
   "outputs": [
    {
     "data": {
      "text/plain": [
 #      "array([False, False,  True, ..., False, False, False])"
      ]
     },
     "execution_count": 78,
     "metadata": {},
     "output_type": "execute_result"
    }
   ],
   "source": [
#    "class4"
   ]
  },
  {
   "cell_type": "code",
   "execution_count": 80,
   "metadata": {},
   "outputs": [
    {
     "data": {
      "text/plain": [
 #      "5842"
      ]
     },
     "execution_count": 80,
     "metadata": {},
     "output_type": "execute_result"
    }
   ],
   "source": [
 #   "class4.sum()"
   ]
  },
  {
   "cell_type": "code",
   "execution_count": 81,
   "metadata": {},
   "outputs": [],
   "source": [
#    "sampleClass4 = traind[class4]"
   ]
  },
  {
   "cell_type": "code",
   "execution_count": 83,
   "metadata": {},
   "outputs": [
    {
     "data": {
      "text/plain": [
  #     "(5842, 28, 28)"
      ]
     },
     "execution_count": 83,
     "metadata": {},
     "output_type": "execute_result"
    }
   ],
   "source": [
  #  "sampleClass4.shape"
   ]
  },
  {
   "cell_type": "code",
   "execution_count": 84,
   "metadata": {},
   "outputs": [],
   "source": [
 #   "class9 = (classes==9)"
   ]
  },
  {
   "cell_type": "code",
   "execution_count": 85,
   "metadata": {},
   "outputs": [
    {
     "data": {
      "text/plain": [
 #      "5949"
      ]
     },
     "execution_count": 85,
     "metadata": {},
     "output_type": "execute_result"
    }
   ],
   "source": [
#    "class9.sum()"
   ]
  },
  {
   "cell_type": "code",
   "execution_count": 86,
   "metadata": {},
   "outputs": [],
   "source": [
#    "sampleClass9 = traind[class9]"
   ]
  },
  {
   "cell_type": "code",
   "execution_count": 87,
   "metadata": {},
   "outputs": [
    {
     "data": {
      "text/plain": [
  #     "(5949, 28, 28)"
      ]
     },
     "execution_count": 87,
     "metadata": {},
     "output_type": "execute_result"
    }
   ],
   "source": [
 #   "sampleClass9.shape"
   ]
  },
  {
   "cell_type": "code",
   "execution_count": 88,
   "metadata": {},
   "outputs": [],
   "source": [
 #   "class4or9 = np.logical_or(class4, class9)"
   ]
  },
  {
   "cell_type": "code",
   "execution_count": 89,
   "metadata": {},
   "outputs": [
    {
     "data": {
      "text/plain": [
 #      "11791"
      ]
     },
     "execution_count": 89,
     "metadata": {},
     "output_type": "execute_result"
    }
   ],
   "source": [
 #   "class4or9.sum()"
   ]
  },
  {
   "cell_type": "code",
   "execution_count": null,
   "metadata": {},
   "outputs": [],
   "source": []
  },
  {
   "cell_type": "code",
   "execution_count": 90,
   "metadata": {},
   "outputs": [],
   "source": [
 #   "sampleClass4or9 = traind[class4or9]"
   ]
  },
  {
   "cell_type": "code",
   "execution_count": 91,
   "metadata": {},
   "outputs": [
    {
     "data": {
      "text/plain": [
  #     "(11791, 28, 28)"
      ]
     },
     "execution_count": 91,
     "metadata": {},
     "output_type": "execute_result"
    }
   ],
   "source": [
 #   "sampleClass4or9.shape"
   ]
  },
  {
   "cell_type": "code",
   "execution_count": 95,
   "metadata": {},
   "outputs": [],
   "source": [
#    "first10000data = traind[0:9999]"
   ]
  },
  {
   "cell_type": "code",
   "execution_count": 96,
   "metadata": {},
   "outputs": [
    {
     "data": {
      "text/plain": [
  #     "(9999, 28, 28)"
      ]
     },
     "execution_count": 96,
     "metadata": {},
     "output_type": "execute_result"
    }
   ],
   "source": [
 #   "first10000data.shape"
   ]
  },
  {
   "cell_type": "code",
   "execution_count": 97,
   "metadata": {},
   "outputs": [],
   "source": [
 #   "first10000label = trainl[0:9999]"
   ]
  },
  {
   "cell_type": "code",
   "execution_count": 98,
   "metadata": {},
   "outputs": [
    {
     "data": {
      "text/plain": [
 #      "(9999, 10)"
      ]
     },
     "execution_count": 98,
     "metadata": {},
     "output_type": "execute_result"
    }
   ],
   "source": [
#    "first10000label.shape"
   ]
  },
  {
   "cell_type": "code",
   "execution_count": 104,
   "metadata": {},
   "outputs": [],
   "source": [
#    "indices = np.arange(0,traind.shape[0])"
   ]
  },
  {
   "cell_type": "code",
   "execution_count": 105,
   "metadata": {},
   "outputs": [
    {
     "data": {
      "text/plain": [
#       "(60000,)"
      ]
     },
     "execution_count": 105,
     "metadata": {},
     "output_type": "execute_result"
    }
   ],
   "source": [
 #   "indices.shape"
   ]
  },
  {
   "cell_type": "code",
   "execution_count": 107,
   "metadata": {},
   "outputs": [],
   "source": [
 #   "npr.shuffle(indices)"
   ]
  },
  {
   "cell_type": "code",
   "execution_count": 111,
   "metadata": {},
   "outputs": [],
   "source": [
 #   "firstSample = traind[0]"
   ]
  },
  {
   "cell_type": "code",
   "execution_count": 112,
   "metadata": {},
   "outputs": [
    {
     "data": {
      "text/plain": [
       "<matplotlib.image.AxesImage at 0x11ac847d0>"
      ]
     },
     "execution_count": 112,
     "metadata": {},
     "output_type": "execute_result"
    },
    {
     "data": {
      "image/png": "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\n",
      "text/plain": [
       "<Figure size 432x288 with 1 Axes>"
      ]
     },
     "metadata": {
      "needs_background": "light"
     },
     "output_type": "display_data"
    }
   ],
   "source": [
  #  "plt.imshow(firstSample)"
   ]
  },
  {
   "cell_type": "code",
   "execution_count": 113,
   "metadata": {},
   "outputs": [],
   "source": [
 #   "tempd = traind"
   ]
  },
  {
   "cell_type": "code",
   "execution_count": 114,
   "metadata": {},
   "outputs": [],
   "source": [
 #   "firstSample = tempd[0]"
   ]
  },
  {
   "cell_type": "code",
   "execution_count": 115,
   "metadata": {},
   "outputs": [
    {
     "data": {
      "text/plain": [
       "<matplotlib.image.AxesImage at 0x11a92fbd0>"
      ]
     },
     "execution_count": 115,
     "metadata": {},
     "output_type": "execute_result"
    },
    {
     "data": {
      "image/png": "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\n",
      "text/plain": [
       "<Figure size 432x288 with 1 Axes>"
      ]
     },
     "metadata": {
      "needs_background": "light"
     },
     "output_type": "display_data"
    }
   ],
   "source": [
#    "plt.imshow(firstSample)"
   ]
  },
  {
   "cell_type": "code",
   "execution_count": 116,
   "metadata": {},
   "outputs": [],
   "source": [
#    "npr.shuffle(tempd)"
   ]
  },
  {
   "cell_type": "code",
   "execution_count": 117,
   "metadata": {},
   "outputs": [],
   "source": [
 #   "firstRandom = tempd[0]"
   ]
  },
  {
   "cell_type": "code",
   "execution_count": 118,
   "metadata": {},
   "outputs": [
    {
     "data": {
      "text/plain": [
       "<matplotlib.image.AxesImage at 0x11a1d8c90>"
      ]
     },
     "execution_count": 118,
     "metadata": {},
     "output_type": "execute_result"
    },
    {
     "data": {
      "image/png": "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\n",
      "text/plain": [
       "<Figure size 432x288 with 1 Axes>"
      ]
     },
     "metadata": {
      "needs_background": "light"
     },
     "output_type": "display_data"
    }
   ],
   "source": [
 #   "plt.imshow(firstRandom)"
   ]
  },
  {
   "cell_type": "code",
   "execution_count": 121,
   "metadata": {},
   "outputs": [],
   "source": [
  #  "firstRandom1000 = tempd[0:1000]"
   ]
  },
  {
   "cell_type": "code",
   "execution_count": 123,
   "metadata": {},
   "outputs": [
    {
     "data": {
      "text/plain": [
 #      "(1000, 28, 28)"
      ]
     },
     "execution_count": 123,
     "metadata": {},
     "output_type": "execute_result"
    }
   ],
   "source": [
 #   "firstRandom1000.shape"
   ]
  },
  {
   "cell_type": "code",
   "execution_count": null,
   "metadata": {},
   "outputs": [],
   "source": []
  },
  {
   "cell_type": "code",
   "execution_count": null,
   "metadata": {},
   "outputs": [],
   "source": []
  },
  {
   "cell_type": "code",
   "execution_count": null,
   "metadata": {},
   "outputs": [],
   "source": []
  },
  {
   "cell_type": "code",
   "execution_count": null,
   "metadata": {},
   "outputs": [],
   "source": []
  },
  {
   "cell_type": "code",
   "execution_count": null,
   "metadata": {},
   "outputs": [],
   "source": []
  },
  {
   "cell_type": "code",
   "execution_count": null,
   "metadata": {},
   "outputs": [],
   "source": []
  },
  {
   "cell_type": "code",
   "execution_count": null,
   "metadata": {},
   "outputs": [],
   "source": []
  },
  {
   "cell_type": "code",
   "execution_count": null,
   "metadata": {},
   "outputs": [],
   "source": []
  },
  {
   "cell_type": "code",
   "execution_count": null,
   "metadata": {},
   "outputs": [],
   "source": []
  },
  {
   "cell_type": "code",
   "execution_count": null,
   "metadata": {},
   "outputs": [],
   "source": []
  },
  {
   "cell_type": "code",
   "execution_count": null,
   "metadata": {},
   "outputs": [],
   "source": []
  },
  {
   "cell_type": "code",
   "execution_count": null,
   "metadata": {},
   "outputs": [],
   "source": []
  },
  {
   "cell_type": "code",
   "execution_count": null,
   "metadata": {},
   "outputs": [],
   "source": []
  },
  {
   "cell_type": "code",
   "execution_count": null,
   "metadata": {},
   "outputs": [],
   "source": []
  },
  {
   "cell_type": "code",
   "execution_count": null,
   "metadata": {},
   "outputs": [],
   "source": []
  },
  {
   "cell_type": "code",
   "execution_count": null,
   "metadata": {},
   "outputs": [],
   "source": []
  },
  {
   "cell_type": "code",
   "execution_count": null,
   "metadata": {},
   "outputs": [],
   "source": []
  },
  {
   "cell_type": "code",
   "execution_count": null,
   "metadata": {},
   "outputs": [],
   "source": []
  },
  {
   "cell_type": "code",
   "execution_count": null,
   "metadata": {},
   "outputs": [],
   "source": []
  },
  {
   "cell_type": "code",
   "execution_count": null,
   "metadata": {},
   "outputs": [],
   "source": []
  },
  {
   "cell_type": "code",
   "execution_count": null,
   "metadata": {},
   "outputs": [],
   "source": []
  },
  {
   "cell_type": "code",
   "execution_count": null,
   "metadata": {},
   "outputs": [],
   "source": []
  },
  {
   "cell_type": "code",
   "execution_count": null,
   "metadata": {},
   "outputs": [],
   "source": []
  },
  {
   "cell_type": "code",
   "execution_count": null,
   "metadata": {},
   "outputs": [],
   "source": []
  },
  {
   "cell_type": "code",
   "execution_count": null,
   "metadata": {},
   "outputs": [],
   "source": []
  },
  {
   "cell_type": "code",
   "execution_count": null,
   "metadata": {},
   "outputs": [],
   "source": []
  },
  {
   "cell_type": "code",
   "execution_count": null,
   "metadata": {},
   "outputs": [],
   "source": []
  },
  {
   "cell_type": "code",
   "execution_count": null,
   "metadata": {},
   "outputs": [],
   "source": []
  },
  {
   "cell_type": "code",
   "execution_count": null,
   "metadata": {},
   "outputs": [],
   "source": []
  },
  {
   "cell_type": "code",
   "execution_count": null,
   "metadata": {},
   "outputs": [],
   "source": []
  },
  {
   "cell_type": "code",
   "execution_count": null,
   "metadata": {},
   "outputs": [],
   "source": []
  },
  {
   "cell_type": "code",
   "execution_count": null,
   "metadata": {},
   "outputs": [],
   "source": []
  },
  {
   "cell_type": "code",
   "execution_count": null,
   "metadata": {},
   "outputs": [],
   "source": []
  },
  {
   "cell_type": "code",
   "execution_count": null,
   "metadata": {},
   "outputs": [],
   "source": []
  },
  {
   "cell_type": "code",
   "execution_count": null,
   "metadata": {},
   "outputs": [],
   "source": []
  },
  {
   "cell_type": "code",
   "execution_count": null,
   "metadata": {},
   "outputs": [],
   "source": []
  },
  {
   "cell_type": "code",
   "execution_count": null,
   "metadata": {},
   "outputs": [],
   "source": []
  },
  {
   "cell_type": "code",
   "execution_count": null,
   "metadata": {},
   "outputs": [],
   "source": []
  },
  {
   "cell_type": "code",
   "execution_count": null,
   "metadata": {},
   "outputs": [],
   "source": []
  },
  {
   "cell_type": "code",
   "execution_count": null,
   "metadata": {},
   "outputs": [],
   "source": []
  },
  {
   "cell_type": "code",
   "execution_count": null,
   "metadata": {},
   "outputs": [],
   "source": []
  },
  {
   "cell_type": "code",
   "execution_count": null,
   "metadata": {},
   "outputs": [],
   "source": []
  },
  {
   "cell_type": "code",
   "execution_count": null,
   "metadata": {},
   "outputs": [],
   "source": []
  },
  {
   "cell_type": "code",
   "execution_count": null,
   "metadata": {},
   "outputs": [],
   "source": []
  }
 ],
 "metadata": {
  "kernelspec": {
   "display_name": "Python 3",
   "language": "python",
   "name": "python3"
  },
  "language_info": {
   "codemirror_mode": {
    "name": "ipython",
    "version": 3
   },
   "file_extension": ".py",
   "mimetype": "text/x-python",
   "name": "python",
   "nbconvert_exporter": "python",
   "pygments_lexer": "ipython3",
   "version": "3.7.6"
  }
 },
 "nbformat": 4,
 "nbformat_minor": 4
}
